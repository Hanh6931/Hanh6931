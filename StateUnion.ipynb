{
  "nbformat": 4,
  "nbformat_minor": 0,
  "metadata": {
    "colab": {
      "provenance": [],
      "include_colab_link": true
    },
    "kernelspec": {
      "name": "python3",
      "display_name": "Python 3"
    },
    "language_info": {
      "name": "python"
    }
  },
  "cells": [
    {
      "cell_type": "markdown",
      "metadata": {
        "id": "view-in-github",
        "colab_type": "text"
      },
      "source": [
        "<a href=\"https://colab.research.google.com/github/Hanh6931/Hanh6931/blob/main/StateUnion.ipynb\" target=\"_parent\"><img src=\"https://colab.research.google.com/assets/colab-badge.svg\" alt=\"Open In Colab\"/></a>"
      ]
    },
    {
      "cell_type": "code",
      "source": [
        "!pip install datasets -q"
      ],
      "metadata": {
        "id": "63VOA0mzYDfy"
      },
      "execution_count": 13,
      "outputs": []
    },
    {
      "cell_type": "code",
      "execution_count": 14,
      "metadata": {
        "id": "lh7s_oa4XnAM"
      },
      "outputs": [],
      "source": [
        "import matplotlib.pyplot as plt\n",
        "import numpy as np\n",
        "import pandas as pd\n",
        "from datasets import load_dataset\n",
        "from collections import Counter\n",
        "\n",
        "from datetime import datetime, timedelta\n",
        "\n",
        "import nltk\n",
        "from nltk.draw.dispersion import dispersion_plot"
      ]
    },
    {
      "cell_type": "code",
      "source": [
        "# Load the dataset\n",
        "dataset = load_dataset(\"jsulz/state-of-the-union-addresses\")\n",
        "\n",
        "# Extract the necessary columns\n",
        "dates = [item[\"date\"] for item in dataset[\"train\"]]\n",
        "potus=[item[\"potus\"] for item in dataset[\"train\"]]\n",
        "texts = [item[\"lemmatized\"] for item in dataset[\"train\"]]\n",
        "\n",
        "# Combine dates, potus texts, then sort by dates\n",
        "sorted_data = sorted(zip(dates, potus, texts), key=lambda x: x[0])\n",
        "sorted_dates, sorted_potus,sorted_texts = zip(*sorted_data)\n",
        "\n",
        "\n"
      ],
      "metadata": {
        "id": "PJo5iNECX1L2"
      },
      "execution_count": 15,
      "outputs": []
    },
    {
      "cell_type": "code",
      "source": [
        "sorted_dates[0:8]"
      ],
      "metadata": {
        "colab": {
          "base_uri": "https://localhost:8080/"
        },
        "id": "zoCHN6gIOg9V",
        "outputId": "0e0fb8e3-f377-48ce-90d6-0f896dfc0fd5"
      },
      "execution_count": 16,
      "outputs": [
        {
          "output_type": "execute_result",
          "data": {
            "text/plain": [
              "(Timestamp('1790-01-08 00:00:00'),\n",
              " Timestamp('1790-12-08 00:00:00'),\n",
              " Timestamp('1791-10-25 00:00:00'),\n",
              " Timestamp('1792-11-06 00:00:00'),\n",
              " Timestamp('1793-12-03 00:00:00'),\n",
              " Timestamp('1794-11-19 00:00:00'),\n",
              " Timestamp('1795-12-08 00:00:00'),\n",
              " Timestamp('1796-12-07 00:00:00'))"
            ]
          },
          "metadata": {},
          "execution_count": 16
        }
      ]
    },
    {
      "source": [
        "# prompt: FIrst partition the data into 5-year blocks. The initial date for grouping should be\n",
        "# start_date = pd.Timestamp('1790-01-08')\n",
        "\n",
        "import pandas as pd\n",
        "\n",
        "start_date = pd.Timestamp('1790-01-08')\n",
        "\n",
        "# Convert dates to datetime objects\n",
        "dates_dt = pd.to_datetime(sorted_dates)\n",
        "\n",
        "# Calculate the difference in years from the start date\n",
        "# The original line caused the error because 'TimedeltaIndex' doesn't have a 'dt' attribute.\n",
        "# Instead, we use the '.days' attribute directly on the 'TimedeltaIndex' object and then divide by 365.25.\n",
        "years_diff = (dates_dt - start_date).days / 365.25\n",
        "\n",
        "# Partition the data into 5-year blocks\n",
        "five_year_blocks = (years_diff // 5).astype(int)\n",
        "\n",
        "# Group data by the 5-year blocks\n",
        "partitioned_data = {}\n",
        "for i, block in enumerate(five_year_blocks):\n",
        "    if block not in partitioned_data:\n",
        "        partitioned_data[block] = []\n",
        "    partitioned_data[block].append({\n",
        "        'date': dates_dt[i],\n",
        "        'potus': sorted_potus[i],\n",
        "        'text': sorted_texts[i]\n",
        "    })"
      ],
      "cell_type": "code",
      "metadata": {
        "id": "HgwfxRPBTyLH"
      },
      "execution_count": 17,
      "outputs": []
    },
    {
      "cell_type": "code",
      "source": [
        "# prompt: Restructure blocks into dictionaries, where each dictionary contains a year (extracted from the first entry’s date) and a merged list of text consisting of the lemmatized words from all entries in the block.\n",
        "\n",
        "restructured_data = []\n",
        "for block_num, entries in partitioned_data.items():\n",
        "  year = entries[0]['date'].year  # Extract year from the first entry's date\n",
        "  merged_text = []\n",
        "  for entry in entries:\n",
        "    merged_text.extend(entry['text'])\n",
        "  restructured_data.append({'year': year, 'text': merged_text})\n"
      ],
      "metadata": {
        "id": "rU-XFfoHhWkr"
      },
      "execution_count": 18,
      "outputs": []
    },
    {
      "cell_type": "code",
      "source": [
        "# prompt: Find the length of the longest 'text' field, then pad this list of  lemmatized  words for all the other processed blocks with \"OOV\" tokens. These are blanks, introduced to give uniformity of the timeline (Years).\n",
        "\n",
        "max_len = 0\n",
        "for item in restructured_data:\n",
        "    max_len = max(max_len, len(item['text']))\n",
        "\n",
        "padded_data = []\n",
        "for item in restructured_data:\n",
        "    padding_length = max_len - len(item['text'])\n",
        "    padded_text = item['text'] + ['OOV'] * padding_length\n",
        "    padded_data.append({'year': item['year'], 'text': padded_text})\n"
      ],
      "metadata": {
        "id": "qT9DJZjnT3jk"
      },
      "execution_count": 19,
      "outputs": []
    },
    {
      "source": [
        "# prompt: Produce the lexical dispersion plot.\n",
        "\n",
        "import matplotlib.pyplot as plt\n",
        "# Convert the list of dictionaries to a list of texts\n",
        "texts = [item['text'] for item in padded_data]\n",
        "\n",
        "# Define the target words for the dispersion plot\n",
        "target_words = ['nation', 'people', 'freedom', 'security']\n",
        "\n",
        "# Create the dispersion plot\n",
        "plt.figure(figsize=(12, 6))  # Adjust figure size as needed\n",
        "\n",
        "# Concatenate the list of lists into a single flat list.\n",
        "flattened_texts = [token for sublist in texts for token in sublist]\n",
        "\n",
        "# Now call dispersion_plot with the flattened list\n",
        "dispersion_plot(flattened_texts, target_words, ignore_case=True)\n",
        "plt.show()"
      ],
      "cell_type": "code",
      "metadata": {
        "id": "J0UBeRstUClN",
        "outputId": "e29c83c4-37db-497c-df1a-525e552cc977",
        "colab": {
          "base_uri": "https://localhost:8080/",
          "height": 489
        }
      },
      "execution_count": 20,
      "outputs": [
        {
          "output_type": "display_data",
          "data": {
            "text/plain": [
              "<Figure size 1200x600 with 0 Axes>"
            ]
          },
          "metadata": {}
        },
        {
          "output_type": "display_data",
          "data": {
            "text/plain": [
              "<Figure size 640x480 with 1 Axes>"
            ],
            "image/png": "[encoded data removed]"
          },
          "metadata": {}
        }
      ]
    }
  ]
}